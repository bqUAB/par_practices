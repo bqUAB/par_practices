{
 "cells": [
  {
   "cell_type": "markdown",
   "metadata": {},
   "source": [
    "# PR3: Support Vector Machines for binary and multi-class classification\n",
    "\n",
    "In PR1 and PR2 we have used Logistic Regression and k-NN for binary classification. In this practical we are going to use the Support Vector Machines (SVMs) implemented in scikit-learn for both binary and multi-class classification.\n",
    "\n",
    "First we are going to revisit the binary classification task of text/non-text classification using the BoW features of PR2. Then we'll introduce the task of multi-class classification. \n",
    "\n",
    "The effectiveness of SVMs depends on the selection of the kernel function, the kernel's parameters, and the soft margin parameter C. Thus, we are going to experiment with different kernels, and with the use of grid search for parameter \"optimization\"."
   ]
  },
  {
   "cell_type": "markdown",
   "metadata": {},
   "source": [
    "## Binary Classification\n",
    "\n",
    "The data for the first part of the practical is the same as in PR2 (BoW features). Thus, the first thing to do is to extract the BoW features for the train and test sets and save them into a file. You have the code to this in cell number 8 of PR2 notebook. Please, generate the features using the parameters (number of words in the vocabulary and step size) which performed best in your experiments. When you have saved the features and labels in files come back here and load them."
   ]
  },
  {
   "cell_type": "code",
   "execution_count": 1,
   "metadata": {
    "collapsed": false
   },
   "outputs": [],
   "source": [
    "import pickle\n",
    "import gzip\n",
    "\n",
    "# Load the train and test datasets\n",
    "\n",
    "with gzip.open('./BoW_train_features.pklz','rb') as f:\n",
    " (train_labels,train_features) = pickle.load(f)\n",
    "    \n",
    "with gzip.open('./BoW_test_features.pklz','rb') as f:\n",
    " (test_labels,test_features) = pickle.load(f)"
   ]
  },
  {
   "cell_type": "markdown",
   "metadata": {},
   "source": [
    "Training an SVM classifier is straightforward using scikit-learn **svm.SVC**. As other classifiers, SVC implements the **fit(...)** method (to train the classifier) and **predict(...)** method (to test on new data). The **score(...)** method returns the mean accuracy on the given test data and labels.\n",
    "\n",
    "The **fit(...)** method take as input two arrays: an array X of size [n_samples, n_features] holding the training samples, and an array y of class labels (strings or integers), size [n_samples]. "
   ]
  },
  {
   "cell_type": "code",
   "execution_count": 2,
   "metadata": {
    "collapsed": false
   },
   "outputs": [
    {
     "name": "stdout",
     "output_type": "stream",
     "text": [
      "Train Accuracy : 0.859698996656\n",
      "Test Accuracy : 0.843401308195\n"
     ]
    }
   ],
   "source": [
    "from sklearn import svm\n",
    "\n",
    "# Train classifier (takes around 3 minutes with this kernel and data)\n",
    "classifier = svm.SVC(kernel='linear')\n",
    "classifier = classifier.fit(train_features, train_labels)\n",
    "\n",
    "print \"Train Accuracy : \"+str(classifier.score(train_features, train_labels))\n",
    "\n",
    "# Run classifier\n",
    "result = classifier.predict(test_features)\n",
    "\n",
    "print \"Test Accuracy : \"+str(classifier.score(test_features, test_labels))"
   ]
  },
  {
   "cell_type": "markdown",
   "metadata": {},
   "source": [
    "The effectiveness of SVM depends on the selection of kernel, the kernel's parameters, and soft margin parameter C. \n",
    "\n",
    "A Linear kernel is the simplest kernel function and has no parameters. It is given by the inner product <x,y> :\n",
    "\n",
    "$k(x,y) = x^T y$\n",
    "\n",
    "The best value for the soft margin parameter C is often picked with an exhaustive search strategy, for example, checking all possible values $C \\in \\{ 2^{-5}, 2^{-3}, \\dots, 2^{13},2^{15} \\}$. \n",
    "\n",
    "**sklearn.grid_search.GridSearchCV** perform a grid search over specified parameter values for an estimator (an **svm.SVC** classifier in out case).\n",
    "\n",
    "It implements the **fit(...)** and **predict(...)** methods like any sklearn classifier except that the parameters of the classifier used to predict is optimized by cross-validation. Each possible combination of parameter choices is checked using cross validation, and the parameters with best cross-validation accuracy are picked. "
   ]
  },
  {
   "cell_type": "code",
   "execution_count": 23,
   "metadata": {
    "collapsed": false
   },
   "outputs": [
    {
     "name": "stdout",
     "output_type": "stream",
     "text": [
      "The best parameters are {'C': 10} with a score of 0.86\n"
     ]
    }
   ],
   "source": [
    "from sklearn import svm, grid_search\n",
    "\n",
    "# Grid search for SVM parameter C\n",
    "parameters = {'C':[0.1, 1, 10]} # Checking only three possible values for the C parameter\n",
    "classifier = svm.SVC(kernel='linear') # Linear kernel\n",
    "grid = grid_search.GridSearchCV(classifier, parameters)\n",
    "grid.fit(train_features, train_labels)\n",
    "\n",
    "print(\"The best parameters are %s with a score of %0.2f\"\n",
    "      % (grid.best_params_, grid.best_score_))\n",
    "\n",
    "#print \"Score : \"+str(classifier.score(test_features, test_labels))"
   ]
  },
  {
   "cell_type": "markdown",
   "metadata": {},
   "source": [
    "## <font color='red'>Exercise 1: SVM classifier with RBF kernel and BoW features.</font>\n",
    "\n",
    "In the previous cells you have the code to train/text an SVM classifier with a Linear kernel. Another common choice for the kernel is the Gaussian kernel (an example of radial basis function kernel), which has a single parameter $\\gamma$:\n",
    "\n",
    "$k(x, y) = \\exp{(- \\gamma \\lVert x-y \\rVert ^2 )}$\n",
    "\n",
    "The best combination of C and $\\gamma$ can be found with a grid search with exponentially growing sequences of C and $\\gamma$, for example, $C \\in \\{ 2^{-5}, 2^{-3}, \\dots, 2^{13},2^{15} \\}$; $\\gamma \\in \\{ 2^{-15},2^{-13}, \\dots, 2^{1},2^{3} \\}$.\n",
    "\n",
    "Train a SVM classifier with RBF kernel and using the BoW features. \n",
    "\n",
    "Compare the Test Accuracy, Precision, and Recall with the obtained in PR2 with the Logistic Regression and k-NN classifiers."
   ]
  },
  {
   "cell_type": "markdown",
   "metadata": {},
   "source": [
    "<table>\n",
    "    <tr>\n",
    "        <td> Classifier </td>\n",
    "        <td> Test Accuracy </td>\n",
    "        <td> Precision </td>\n",
    "        <td> Recall </td>\n",
    "    </tr>\n",
    "    <tr>\n",
    "        <td colspan=2></td>\n",
    "    </tr>\n",
    "    \n",
    "    <tr>\n",
    "        <td> Logistic Regression </td>\n",
    "        <td> </td>\n",
    "        <td>  </td>\n",
    "        <td>  </td>\n",
    "    </tr>\n",
    "    \n",
    "    <tr>\n",
    "        <td> k-NN (k=) </td>\n",
    "        <td>  </td>\n",
    "        <td>  </td>\n",
    "        <td>  </td>\n",
    "    </tr>\n",
    "    \n",
    "    <tr>\n",
    "        <td> SVM (Linear kernel)</td>\n",
    "        <td>  </td>\n",
    "        <td>  </td>\n",
    "        <td>  </td>\n",
    "    </tr>\n",
    "    \n",
    "    <tr>\n",
    "        <td> SVM (RBF kernel)</td>\n",
    "        <td>  </td>\n",
    "        <td>  </td>\n",
    "        <td>  </td>\n",
    "    </tr>\n",
    "</table>"
   ]
  },
  {
   "cell_type": "markdown",
   "metadata": {},
   "source": [
    "<font color='red'>**Warning**</font>: If you are going to check a large number of parameter combinations **GridSearchCV** is going to take a long time to finish. By setting **verbosity** parameter to $10$ you'll be able to see intermediate results, and select the best ones even if the search has not finished: \n",
    "\n",
    "grid = grid_search.GridSearchCV(classifier, parameters, **verbose=10**)"
   ]
  },
  {
   "cell_type": "code",
   "execution_count": null,
   "metadata": {
    "collapsed": false
   },
   "outputs": [],
   "source": []
  },
  {
   "cell_type": "markdown",
   "metadata": {},
   "source": [
    "## Multi-class Classification\n",
    "\n",
    "In this part of the practical we are going to deal with the problem of Multi-class classification. This means in our dataset we do not have binary labels (0=text, 1=no-text), but instead we may have any number of discrete/categorical labels. \n",
    "\n",
    "For this part of the practical we are going to work with a much simpler (2D) and smaller dataset: The Iris flower data set (http://en.wikipedia.org/wiki/Iris_flower_data_set) which is included by default in the scikit-learn distribution."
   ]
  },
  {
   "cell_type": "code",
   "execution_count": 24,
   "metadata": {
    "collapsed": false
   },
   "outputs": [
    {
     "name": "stdout",
     "output_type": "stream",
     "text": [
      "We have 150 samples\n",
      "The possible labels are [0 1 2]\n"
     ]
    }
   ],
   "source": [
    "import numpy as np\n",
    "import matplotlib.pyplot as plt\n",
    "from sklearn import svm, datasets\n",
    "%matplotlib inline \n",
    "\n",
    "# import the iris dataset (http://en.wikipedia.org/wiki/Iris_flower_data_set)\n",
    "iris = datasets.load_iris()\n",
    "train_features = iris.data[:, :2]  # Here we only use the first two features.\n",
    "train_labels = iris.target\n",
    "\n",
    "print(\"We have \"+str(train_features.shape[0])+\" samples\");\n",
    "print(\"The possible labels are \"+str(np.unique(train_labels)));"
   ]
  },
  {
   "cell_type": "code",
   "execution_count": 25,
   "metadata": {
    "collapsed": false
   },
   "outputs": [
    {
     "name": "stdout",
     "output_type": "stream",
     "text": [
      "Train Accuracy : 0.82\n"
     ]
    }
   ],
   "source": [
    "# Train a classifier\n",
    "classifier = svm.SVC(kernel='linear')\n",
    "classifier = classifier.fit(train_features, train_labels)\n",
    "\n",
    "print \"Train Accuracy : \"+str(classifier.score(train_features, train_labels))"
   ]
  },
  {
   "cell_type": "code",
   "execution_count": 26,
   "metadata": {
    "collapsed": false
   },
   "outputs": [],
   "source": [
    "# This function plots the decision function of a classifier in a 2D space\n",
    "# You can use it just like a black box.\n",
    "# Input parameters:\n",
    "#     clf : your classifier\n",
    "#     X : an array of size [n_samples, n_features] holding the data samples\n",
    "#     y : an array of size [n_samples] with the class labels of each sample\n",
    "def plot_classifier_boundary(clf,X,y):\n",
    "\n",
    "    # create a mesh to plot in\n",
    "    h = .02  # step size in the mesh\n",
    "    x_min, x_max = X[:, 0].min() - 1, X[:, 0].max() + 1\n",
    "    y_min, y_max = X[:, 1].min() - 1, X[:, 1].max() + 1\n",
    "    xx, yy = np.meshgrid(np.arange(x_min, x_max, h),\n",
    "                     np.arange(y_min, y_max, h))\n",
    "    Z = clf.predict(np.c_[xx.ravel(), yy.ravel()])\n",
    "\n",
    "    # Put the result into a color plot\n",
    "    Z = Z.reshape(xx.shape)\n",
    "    plt.contourf(xx, yy, Z, cmap=plt.cm.Paired, alpha=0.8)\n",
    "\n",
    "    # Plot also the training points\n",
    "    plt.scatter(X[:, 0], X[:, 1], c=y, cmap=plt.cm.Paired)\n",
    "    plt.xlabel('x')\n",
    "    plt.ylabel('y')\n",
    "    plt.xlim(xx.min(), xx.max())\n",
    "    plt.ylim(yy.min(), yy.max())\n",
    "    plt.xticks(())\n",
    "    plt.yticks(())"
   ]
  },
  {
   "cell_type": "code",
   "execution_count": 27,
   "metadata": {
    "collapsed": false
   },
   "outputs": [
    {
     "name": "stdout",
     "output_type": "stream",
     "text": [
      "Train Accuracy : 0.82\n"
     ]
    },
    {
     "data": {
      "image/png": "[encoded data removed]",
      "text/plain": [
       "<matplotlib.figure.Figure at 0x4d34c30>"
      ]
     },
     "metadata": {},
     "output_type": "display_data"
    }
   ],
   "source": [
    "plot_classifier_boundary(classifier,train_features,train_labels)\n",
    "\n",
    "print \"Train Accuracy : \"+str(classifier.score(train_features, train_labels))"
   ]
  },
  {
   "cell_type": "markdown",
   "metadata": {},
   "source": [
    "## <font color='red'>Exercise 2: SVM multiclass classification with different kernels.</font>\n",
    "\n",
    "In the previous cells you have the code to train a SVM multi-class classifier with a Linear kernel and visualize its decision boundary. \n",
    "\n",
    "This exercise consists in training several SVM classifiers with different kernels, compare their performance (classification accuracies), and visualize their decision boundaries.\n",
    "\n",
    "In the scikit-learn SVM implementation, the kernel function can be any of the following:\n",
    "\n",
    "* 'linear' : Linear kernel\n",
    "* 'rbf' : Radial Basis Function kernel. It has one parameter: 'gamma'\n",
    "* 'poly': Polynomial kernel. It has various parameters, but you are asked to play only with one: 'degree' (the degree of the polynomial kernel function)\n",
    "\n",
    "You are asked to run GridSearchCV for all these three kernels and find the best values for their parameters. Show in a table the best cross-validation accuracy obtained."
   ]
  },
  {
   "cell_type": "code",
   "execution_count": null,
   "metadata": {
    "collapsed": false
   },
   "outputs": [],
   "source": []
  },
  {
   "cell_type": "markdown",
   "metadata": {},
   "source": [
    "## Custom kernels\n",
    "\n",
    "Appart from the three default kernels in scikit learn we can create a classifier with our own custom kernel by giving the kernel as a python function. In the following list you have some kernel functions that are commonly used:\n",
    "\n",
    "###  Chi-Square Kernels\n",
    "\n",
    "The Chi-Square kernel comes from the Chi-Square distribution. This kernel is most commonly applied to histograms.\n",
    "\n",
    "$k(x,y) = 1 - \\sum_{i=1}^n \\frac{(x_i-y_i)^2}{\\frac{1}{2}(x_i+y_i)}$\n",
    "\n",
    "Appart of the normal Chi-Square kernel, other popular definitions of Chi Squared kernels include the normalized Chi-Square kernel:\n",
    "\n",
    "$k(x,y) = \\sum_{i=1}^n \\frac{(x_i*y_i)}{(x_i+y_i)}$\n",
    "\n",
    "and the exponential Chi-Squared kernel:\n",
    "\n",
    "$k(x,y) = \\exp{(-\\gamma \\sum_{i=1}^n \\frac{(x_i-y_i)^2}{(x_i+y_i)})}$\n",
    "\n",
    "\n",
    "\n",
    "### Histogram Intersection Kernel\n",
    "\n",
    "The Histogram Intersection Kernel is also known as the Min Kernel and has been proven useful in image classification.\n",
    "\n",
    "$k(x,y) = \\sum_{i=1}^n min(x_i,y_i)$\n",
    "\n",
    "\n",
    "\n",
    "### Generalized Histogram Intersection\n",
    "\n",
    "The Generalized Histogram Intersection kernel is built based on the Histogram Intersection Kernel for image classification but applies in a much larger variety of contexts (Boughorbel, 2005). It is given by:\n",
    "\n",
    "$k(x,y) = \\sum_{i=1}^m min(|x_i|^\\alpha,|y_i|^\\beta)$\n",
    "\n",
    "\n",
    "The following cell of code shows how to make use of a python function as a custom kernel in **svm.SVC**. In this case it implements the Linear kernel."
   ]
  },
  {
   "cell_type": "code",
   "execution_count": 28,
   "metadata": {
    "collapsed": false
   },
   "outputs": [
    {
     "name": "stdout",
     "output_type": "stream",
     "text": [
      "Train Accuracy : 0.82\n"
     ]
    }
   ],
   "source": [
    "import numpy as np\n",
    "from sklearn import svm\n",
    "\n",
    "def my_kernel(x, y): \n",
    "    return np.dot(x, y.T) #Linear kernel (dot product)\n",
    "\n",
    "classifier = svm.SVC(kernel=my_kernel)\n",
    "\n",
    "classifier = classifier.fit(train_features, train_labels)\n",
    "\n",
    "print \"Train Accuracy : \"+str(classifier.score(train_features, train_labels))"
   ]
  },
  {
   "cell_type": "markdown",
   "metadata": {},
   "source": [
    "## <font color='red'>Exercise 3: Implement your own kernel function.</font>\n",
    "\n",
    "Select one of the kernel functions listed above and implement it as a Python function.\n",
    "\n",
    "Train an SVM classifier for the Iris dataset using your custom kernel function. Compare its performance with the default kernels used in the previous exercise.\n",
    "\n",
    "Train a SVM classifier for the binary classification of text/no-text images, and compare its performance with the kernels used in exercise 1.\n",
    "\n",
    "<font color='red'>**Warning**</font>: Training and testing the classifier with your own kernel function may be very slow if the kernel function is not vectorized. "
   ]
  },
  {
   "cell_type": "code",
   "execution_count": null,
   "metadata": {
    "collapsed": false
   },
   "outputs": [],
   "source": []
  },
  {
   "cell_type": "markdown",
   "metadata": {},
   "source": [
    "## <font color='red'>Exercise 4: Character recognition (optional).</font>\n",
    "\n",
    "Using the following code you can load the raw data and the character labels (62 classes) of the ICDAR character dataset"
   ]
  },
  {
   "cell_type": "code",
   "execution_count": 29,
   "metadata": {
    "collapsed": false
   },
   "outputs": [
    {
     "name": "stdout",
     "output_type": "stream",
     "text": [
      "(5980, 1024)\n",
      "[ 1  2  3  4  5  6  7  8  9 10 11 12 13 14 15 16 17 18 19 20 21 22 23 24 25\n",
      " 26 27 28 29 30 31 32 33 34 35 36 37 38 39 40 41 42 43 44 45 46 47 48 49 50\n",
      " 51 53 54 55 56 57 58 59 60 61 62]\n",
      "(5198, 1024)\n",
      "[ 1  2  3  4  5  6  7  8  9 10 11 12 13 14 15 16 17 18 19 20 21 22 23 24 25\n",
      " 26 27 28 29 30 31 32 33 34 35 36 37 38 39 40 41 42 43 44 45 46 47 48 49 50\n",
      " 51 52 53 54 55 56 57 58 59 60 61 62]\n"
     ]
    }
   ],
   "source": [
    "#Load data\n",
    "with gzip.open('./MultiClass_train_features.pklz','rb') as f:\n",
    " (ch_train_labels, ch_train_raw_pixels) = pickle.load(f)\n",
    "\n",
    "print(ch_train_raw_pixels.shape)\n",
    "print(np.unique(ch_train_labels))\n",
    "    \n",
    "with gzip.open('./MultiClass_test_features.pklz','rb') as f:\n",
    " (ch_test_labels, ch_test_raw_pixels) = pickle.load(f)\n",
    "\n",
    "print(ch_test_raw_pixels.shape)\n",
    "print(np.unique(ch_test_labels))"
   ]
  },
  {
   "cell_type": "markdown",
   "metadata": {},
   "source": [
    "Note that in the test set there is one more class (class = 52) that has only two test samples and zero training samples. This seems to be a pretty rare class, it would be wise to remove these two samples from your test data as well.\n",
    "\n",
    "Now visualise a random image just to check that the loaded data make sense."
   ]
  },
  {
   "cell_type": "code",
   "execution_count": 35,
   "metadata": {
    "collapsed": false
   },
   "outputs": [
    {
     "name": "stdout",
     "output_type": "stream",
     "text": [
      "Label for displayed image : 29\n"
     ]
    },
    {
     "data": {
      "image/png": "[encoded data removed]",
      "text/plain": [
       "<matplotlib.figure.Figure at 0x1393ff70>"
      ]
     },
     "metadata": {},
     "output_type": "display_data"
    }
   ],
   "source": [
    "#Visualize a random image. Just to check that the data make sense\n",
    "i=int(np.random.rand()*ch_train_raw_pixels.shape[0])\n",
    "\n",
    "im = ch_train_raw_pixels[i,:]\n",
    "im = np.reshape(im,[32,32])\n",
    "\n",
    "plt.imshow(im, cmap=plt.cm.gray)\n",
    "\n",
    "print \"Label for displayed image : \"+str(ch_train_labels[i])"
   ]
  },
  {
   "cell_type": "markdown",
   "metadata": {},
   "source": [
    "Use any way you desire to extract features from the raw pixel data (histograms of intensities, bag of words, ...), and perform multi-class classification using SVMs with the configuration of your choice. What is the expected performance of a random classifier on this dataset? Are you able to do any better?"
   ]
  },
  {
   "cell_type": "code",
   "execution_count": null,
   "metadata": {
    "collapsed": true
   },
   "outputs": [],
   "source": []
  }
 ],
 "metadata": {
  "kernelspec": {
   "display_name": "Python 2",
   "language": "python",
   "name": "python2"
  },
  "language_info": {
   "codemirror_mode": {
    "name": "ipython",
    "version": 2
   },
   "file_extension": ".py",
   "mimetype": "text/x-python",
   "name": "python",
   "nbconvert_exporter": "python",
   "pygments_lexer": "ipython2",
   "version": "2.7.13"
  }
 },
 "nbformat": 4,
 "nbformat_minor": 0
}
