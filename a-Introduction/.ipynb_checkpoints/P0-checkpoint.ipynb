{
 "cells": [
  {
   "cell_type": "markdown",
   "metadata": {},
   "source": [
    "# Introduction to Numpy, Scipy, and Matplotlib\n",
    "\n",
    "<a href=\"http://python.org\"> Python </a> is a high-level, general-purpose programming language and it offers several tools that are broadly used by the scientific community.\n",
    "\n",
    "## Wait, is not Python an interpreted language? Is it efficient enough for heavy numeric computations?\n",
    "\n",
    "<a href=\"http://numpy.scipy.org/\">NumPy</a> is a large library of numerical and mathematical functions which  provides the support of highly optimized multidimensional arrays. \n",
    "\n",
    "<a href=\"http://www.scipy.org/\">SciPy</a> uses those arrays to provide scientific and technical computing which contatins modules for optimization, linear algebra and FFT. \n",
    "\n",
    "<a href=\"http://matplotlib.org/\">Matplotlib</a> is probably the most convenient and feature-rich library to plot high-quality graphs using Python.\n",
    "\n",
    "## There is more ... \n",
    "\n",
    "<a href=\"http://ipython.org/\">IPython</a> is an interactive interface, letting you quickly process data and test ideas. \n",
    "\n",
    "The (IPython) Jupyter **notebook** works in your web browser, allowing you to document your computations in an easily reproducible form, it is an interactive computational environment which you can combine code execution, rich text, mathematics, plots and rich media.\n",
    "\n",
    "## Why is it so popular?\n",
    "\n",
    "Perfect language for quick prototyping: it is interpreted and dynamically typed; provides high-level programming with nice readability.\n",
    "\n",
    "Python incorporates documentation directly into the language itself. Moreover, since there exists a large community of users and developers, it is easy to find help, recipes, and code snippets on-line.\n",
    "\n",
    "It is Free software / Open source.\n",
    "\n",
    "It runs natively on Windows, Mac OS, linux, and others.\n",
    "\n",
    "See ... <a href=\"http://www.xkcd.com/353/\">Programming is fun again!</a>"
   ]
  },
  {
   "cell_type": "markdown",
   "metadata": {},
   "source": [
    "# Installing Python, IPython, Numpy, Scipy, and Matplotlib\n",
    "\n",
    "<a href=\"http://continuum.io/downloads.html\">Anaconda</a>: A free Python distribution which supports Linux, Windows and Mac.\n",
    "\n",
    "Anaconda includes Python and analytic Python packages such as NumPy, SciPy, Matplotlib, and IPython.\n",
    "\n",
    "After downloading the installer of **Python 2.7**.\n",
    "\n",
    "## Linux\n",
    "\n",
    "In your terminal window execute for Python 2.7:\n",
    "<code> bash Anaconda2-4.3.0-Linux-x86_64.sh </code>\n",
    "\n",
    "\n",
    "## Windows\n",
    "\n",
    "Double-click the .exe file to install Anaconda and follow the instructions on the screen.\n",
    "\n",
    "## Mac\n",
    "\n",
    "- Double click the .pkg file and follow the instructions on the screen.\n",
    "- Command-Line Installs:\n",
    "After downloading the installer, in the shell execute for Python 2.7: \n",
    "\n",
    "<code> bash Anaconda2-4.3.0-MacOSX-x86_64.sh </code>\n",
    "\n",
    "NOTE: You should type \"bash\", regardless of whether or not you are actually using the bash shell.\n",
    "\n"
   ]
  },
  {
   "cell_type": "markdown",
   "metadata": {},
   "source": [
    "# Using the Jupyter notebook\n",
    "\n",
    "The Jupyter notebook allows you to include text, code, and plots in the same document.\n",
    "\n",
    "This makes it ideal for example to write up a report about a python project and share it with others.\n",
    "\n",
    "**Starting up**\n",
    "The Jupyter Notebook App can be launched by clicking on the Jupyter Notebook icon installed by Anaconda in the start menu (Windows) or by typing in a terminal:\n",
    "\n",
    " jupyter notebook \n",
    "\n",
    "**First steps**\n",
    "At first glance, a notebook looks like a fairly typical application - it has a menubar (File, Edit, View, etc.) and a tool bar with icons. Below this, you will see an empty cell, in which you can type any Python code. You can write several lines of code, and once it is ready to run, you can press Shift+Enter and it will get executed:"
   ]
  },
  {
   "cell_type": "code",
   "execution_count": 2,
   "metadata": {
    "collapsed": false
   },
   "outputs": [
    {
     "name": "stdout",
     "output_type": "stream",
     "text": [
      "This is the pattern analysis and recognition Hello World!\n"
     ]
    }
   ],
   "source": [
    "print \"This is the pattern analysis and recognition Hello World!\""
   ]
  },
  {
   "cell_type": "markdown",
   "metadata": {},
   "source": [
    "You can then click on that cell, change the Python code, and press Shift+Enter again to re-execute the code.\n",
    "\n",
    "You can insert/copy/paste cells at any point of your notebook using the \"Insert\" and \"Edit\" menu entries.\n",
    "\n",
    "There are basically two types of cells: code cells and text cells. You can change the type of a cell by using the \"Cell\" menu item. Text cells can be just raw text or formatted using Markdown syntax. Markdown sytanx allow you to render text with format (e.g. headings, bold text, lists, etc.)."
   ]
  },
  {
   "cell_type": "markdown",
   "metadata": {},
   "source": [
    "**Tips**\n",
    "\n",
    "Save often! There is currently no auto-save in the notebook, so you will lose your changes if you close the browser window. You can save your notebook using the \"File\" menuitem or just pressing Ctr+S keys.\n",
    "\n",
    "If you need more info about the Jupyter notebook check the oficial documentation <a href=\"http://ipython.org/notebook.html\">here</a>."
   ]
  },
  {
   "cell_type": "markdown",
   "metadata": {},
   "source": [
    "# Introduction to numpy"
   ]
  },
  {
   "cell_type": "code",
   "execution_count": 1,
   "metadata": {
    "collapsed": false
   },
   "outputs": [
    {
     "name": "stdout",
     "output_type": "stream",
     "text": [
      "1.11.3\n"
     ]
    }
   ],
   "source": [
    "# Import NumPy\n",
    "import numpy as np\n",
    "\n",
    "print(np.version.full_version)"
   ]
  },
  {
   "cell_type": "code",
   "execution_count": 4,
   "metadata": {
    "collapsed": false
   },
   "outputs": [
    {
     "name": "stdout",
     "output_type": "stream",
     "text": [
      "[0 1 2 3 4 5 6 7 8]\n"
     ]
    }
   ],
   "source": [
    "# Create a vector (1D array)\n",
    "A = np.array([0,1,2,3,4,5,6,7,8])\n",
    "\n",
    "print(A)"
   ]
  },
  {
   "cell_type": "code",
   "execution_count": 5,
   "metadata": {
    "collapsed": false
   },
   "outputs": [
    {
     "name": "stdout",
     "output_type": "stream",
     "text": [
      "Help on built-in function array in module numpy.core.multiarray:\n",
      "\n",
      "array(...)\n",
      "    array(object, dtype=None, copy=True, order=None, subok=False, ndmin=0)\n",
      "    \n",
      "    Create an array.\n",
      "    \n",
      "    Parameters\n",
      "    ----------\n",
      "    object : array_like\n",
      "        An array, any object exposing the array interface, an\n",
      "        object whose __array__ method returns an array, or any\n",
      "        (nested) sequence.\n",
      "    dtype : data-type, optional\n",
      "        The desired data-type for the array.  If not given, then\n",
      "        the type will be determined as the minimum type required\n",
      "        to hold the objects in the sequence.  This argument can only\n",
      "        be used to 'upcast' the array.  For downcasting, use the\n",
      "        .astype(t) method.\n",
      "    copy : bool, optional\n",
      "        If true (default), then the object is copied.  Otherwise, a copy\n",
      "        will only be made if __array__ returns a copy, if obj is a\n",
      "        nested sequence, or if a copy is needed to satisfy any of the other\n",
      "        requirements (`dtype`, `order`, etc.).\n",
      "    order : {'C', 'F', 'A'}, optional\n",
      "        Specify the order of the array.  If order is 'C', then the array\n",
      "        will be in C-contiguous order (last-index varies the fastest).\n",
      "        If order is 'F', then the returned array will be in\n",
      "        Fortran-contiguous order (first-index varies the fastest).\n",
      "        If order is 'A' (default), then the returned array may be\n",
      "        in any order (either C-, Fortran-contiguous, or even discontiguous),\n",
      "        unless a copy is required, in which case it will be C-contiguous.\n",
      "    subok : bool, optional\n",
      "        If True, then sub-classes will be passed-through, otherwise\n",
      "        the returned array will be forced to be a base-class array (default).\n",
      "    ndmin : int, optional\n",
      "        Specifies the minimum number of dimensions that the resulting\n",
      "        array should have.  Ones will be pre-pended to the shape as\n",
      "        needed to meet this requirement.\n",
      "    \n",
      "    Returns\n",
      "    -------\n",
      "    out : ndarray\n",
      "        An array object satisfying the specified requirements.\n",
      "    \n",
      "    See Also\n",
      "    --------\n",
      "    empty, empty_like, zeros, zeros_like, ones, ones_like, fill\n",
      "    \n",
      "    Examples\n",
      "    --------\n",
      "    >>> np.array([1, 2, 3])\n",
      "    array([1, 2, 3])\n",
      "    \n",
      "    Upcasting:\n",
      "    \n",
      "    >>> np.array([1, 2, 3.0])\n",
      "    array([ 1.,  2.,  3.])\n",
      "    \n",
      "    More than one dimension:\n",
      "    \n",
      "    >>> np.array([[1, 2], [3, 4]])\n",
      "    array([[1, 2],\n",
      "           [3, 4]])\n",
      "    \n",
      "    Minimum dimensions 2:\n",
      "    \n",
      "    >>> np.array([1, 2, 3], ndmin=2)\n",
      "    array([[1, 2, 3]])\n",
      "    \n",
      "    Type provided:\n",
      "    \n",
      "    >>> np.array([1, 2, 3], dtype=complex)\n",
      "    array([ 1.+0.j,  2.+0.j,  3.+0.j])\n",
      "    \n",
      "    Data-type consisting of more than one element:\n",
      "    \n",
      "    >>> x = np.array([(1,2),(3,4)],dtype=[('a','<i4'),('b','<i4')])\n",
      "    >>> x['a']\n",
      "    array([1, 3])\n",
      "    \n",
      "    Creating an array from sub-classes:\n",
      "    \n",
      "    >>> np.array(np.mat('1 2; 3 4'))\n",
      "    array([[1, 2],\n",
      "           [3, 4]])\n",
      "    \n",
      "    >>> np.array(np.mat('1 2; 3 4'), subok=True)\n",
      "    matrix([[1, 2],\n",
      "            [3, 4]])\n",
      "\n"
     ]
    }
   ],
   "source": [
    "# Remember we can always get help from a Python object/function this way:\n",
    "help(np.array)"
   ]
  },
  {
   "cell_type": "code",
   "execution_count": 6,
   "metadata": {
    "collapsed": false
   },
   "outputs": [
    {
     "data": {
      "text/plain": [
       "1"
      ]
     },
     "execution_count": 6,
     "metadata": {},
     "output_type": "execute_result"
    }
   ],
   "source": [
    "# Get the number of dimensions of an array\n",
    "A.ndim"
   ]
  },
  {
   "cell_type": "code",
   "execution_count": 7,
   "metadata": {
    "collapsed": false
   },
   "outputs": [
    {
     "data": {
      "text/plain": [
       "(9L,)"
      ]
     },
     "execution_count": 7,
     "metadata": {},
     "output_type": "execute_result"
    }
   ],
   "source": [
    "# Get it's shape\n",
    "A.shape"
   ]
  },
  {
   "cell_type": "code",
   "execution_count": 8,
   "metadata": {
    "collapsed": false
   },
   "outputs": [
    {
     "name": "stdout",
     "output_type": "stream",
     "text": [
      "[[0 1 2]\n",
      " [3 4 5]\n",
      " [6 7 8]]\n"
     ]
    }
   ],
   "source": [
    "# Create a two dimensional array (3x3 matrix)\n",
    "B = np.array([[0,1,2],[3,4,5],[6,7,8]])\n",
    "\n",
    "print(B)"
   ]
  },
  {
   "cell_type": "code",
   "execution_count": 9,
   "metadata": {
    "collapsed": false
   },
   "outputs": [
    {
     "name": "stdout",
     "output_type": "stream",
     "text": [
      "(2, (3L, 3L))\n"
     ]
    }
   ],
   "source": [
    "print(B.ndim, B.shape)"
   ]
  },
  {
   "cell_type": "markdown",
   "metadata": {},
   "source": [
    "## Other ways to create arrays"
   ]
  },
  {
   "cell_type": "code",
   "execution_count": 10,
   "metadata": {
    "collapsed": false
   },
   "outputs": [
    {
     "data": {
      "text/plain": [
       "array([ 1.,  1.,  1.])"
      ]
     },
     "execution_count": 10,
     "metadata": {},
     "output_type": "execute_result"
    }
   ],
   "source": [
    "# Create array (1D) filled with ones\n",
    "np.ones(3)"
   ]
  },
  {
   "cell_type": "code",
   "execution_count": 11,
   "metadata": {
    "collapsed": false
   },
   "outputs": [
    {
     "data": {
      "text/plain": [
       "array([[ 0.,  0.,  0.],\n",
       "       [ 0.,  0.,  0.],\n",
       "       [ 0.,  0.,  0.]])"
      ]
     },
     "execution_count": 11,
     "metadata": {},
     "output_type": "execute_result"
    }
   ],
   "source": [
    "# Create array (with shape (3,3)) filled with zeros\n",
    "np.zeros([3,3])"
   ]
  },
  {
   "cell_type": "code",
   "execution_count": 12,
   "metadata": {
    "collapsed": false
   },
   "outputs": [
    {
     "data": {
      "text/plain": [
       "array([[ 1.,  0.,  0.],\n",
       "       [ 0.,  1.,  0.],\n",
       "       [ 0.,  0.,  1.]])"
      ]
     },
     "execution_count": 12,
     "metadata": {},
     "output_type": "execute_result"
    }
   ],
   "source": [
    "# Identity matrix (2D)\n",
    "np.eye(3)"
   ]
  },
  {
   "cell_type": "code",
   "execution_count": 13,
   "metadata": {
    "collapsed": false
   },
   "outputs": [
    {
     "data": {
      "text/plain": [
       "array([[ 0.88945588,  0.83393596,  0.43754882,  0.31495735],\n",
       "       [ 0.22267123,  0.87174515,  0.02436845,  0.41625465],\n",
       "       [ 0.89969582,  0.13522232,  0.60048985,  0.58233258],\n",
       "       [ 0.50469275,  0.45851164,  0.15729314,  0.30126492]])"
      ]
     },
     "execution_count": 13,
     "metadata": {},
     "output_type": "execute_result"
    }
   ],
   "source": [
    "# Create a random array with shape (4,4)\n",
    "np.random.rand(4,4)"
   ]
  },
  {
   "cell_type": "code",
   "execution_count": 14,
   "metadata": {
    "collapsed": false
   },
   "outputs": [
    {
     "name": "stdout",
     "output_type": "stream",
     "text": [
      "[[ 26  41 218 146]\n",
      " [142 194  26  16]\n",
      " [ 49 168 138 183]\n",
      " [144 224 164 125]]\n",
      "[[207 121 210 170]\n",
      " [217 227 181 189]\n",
      " [239 214 168 162]\n",
      " [250 181 130 147]]\n"
     ]
    }
   ],
   "source": [
    "# Create a random array of integers \n",
    "A = np.random.randint(255,size=(4,4))  # from 0-255\n",
    "B = np.random.randint(100,255,size=(4,4)) # from 100-255\n",
    "\n",
    "print (A)\n",
    "print (B)"
   ]
  },
  {
   "cell_type": "code",
   "execution_count": 15,
   "metadata": {
    "collapsed": false
   },
   "outputs": [
    {
     "name": "stdout",
     "output_type": "stream",
     "text": [
      "[ 0  1  2  3  4  5  6  7  8  9 10 11 12 13 14 15 16 17 18 19 20 21 22 23 24\n",
      " 25 26 27 28 29 30 31 32 33 34 35 36 37 38 39 40 41 42 43 44 45 46 47 48 49\n",
      " 50 51 52 53 54 55 56 57 58 59 60 61 62 63 64 65 66 67 68 69 70 71 72 73 74\n",
      " 75 76 77 78 79 80 81 82 83 84 85 86 87 88 89 90 91 92 93 94 95 96 97 98 99]\n",
      "[100 103 106 109 112 115 118 121 124 127 130 133 136 139 142 145 148 151\n",
      " 154 157 160 163 166 169 172 175 178 181 184 187 190 193 196 199]\n",
      "[ 100.  103.  106.  109.  112.  115.  118.  121.  124.  127.  130.  133.\n",
      "  136.  139.  142.  145.  148.  151.  154.  157.  160.  163.  166.  169.\n",
      "  172.  175.  178.  181.  184.  187.  190.  193.  196.  199.]\n"
     ]
    }
   ],
   "source": [
    "# Create an array with evenly spaced values within a given interval\n",
    "\n",
    "A = np.arange(100) # from 0 to 99, step=1\n",
    "\n",
    "B = np.arange(100,200,3) # from 100 to 199, step=3\n",
    "\n",
    "C = np.arange(100,200,3, dtype = np.float64) # from 100 to 199, step=3, data type = float64\n",
    "\n",
    "print(A)\n",
    "print(B)\n",
    "print(C) "
   ]
  },
  {
   "cell_type": "markdown",
   "metadata": {},
   "source": [
    "## Reshape matrices"
   ]
  },
  {
   "cell_type": "code",
   "execution_count": 3,
   "metadata": {
    "collapsed": false
   },
   "outputs": [
    {
     "name": "stdout",
     "output_type": "stream",
     "text": [
      "[0 1 2 3 4 5 6 7 8]\n",
      "[[0 1 2]\n",
      " [3 4 5]\n",
      " [6 7 8]]\n"
     ]
    }
   ],
   "source": [
    "A = np.array([0,1,2,3,4,5,6,7,8])\n",
    "print(A)\n",
    "\n",
    "# Reshape A to be a 3x3 matrix\n",
    "B = np.reshape(A,[3,3])\n",
    "print(B)"
   ]
  },
  {
   "cell_type": "code",
   "execution_count": 4,
   "metadata": {
    "collapsed": false
   },
   "outputs": [
    {
     "ename": "ValueError",
     "evalue": "total size of new array must be unchanged",
     "output_type": "error",
     "traceback": [
      "\u001b[0;31m---------------------------------------------------------------------------\u001b[0m",
      "\u001b[0;31mValueError\u001b[0m                                Traceback (most recent call last)",
      "\u001b[0;32m<ipython-input-4-efd5a144d851>\u001b[0m in \u001b[0;36m<module>\u001b[0;34m()\u001b[0m\n\u001b[1;32m      1\u001b[0m \u001b[1;31m# New shape must agree in number of elements\u001b[0m\u001b[1;33m\u001b[0m\u001b[1;33m\u001b[0m\u001b[0m\n\u001b[1;32m      2\u001b[0m \u001b[1;31m# This will rise an error because A do not have enough elements to fill a 4x4 array\u001b[0m\u001b[1;33m\u001b[0m\u001b[1;33m\u001b[0m\u001b[0m\n\u001b[0;32m----> 3\u001b[0;31m \u001b[0mC\u001b[0m \u001b[1;33m=\u001b[0m \u001b[0mnp\u001b[0m\u001b[1;33m.\u001b[0m\u001b[0mreshape\u001b[0m\u001b[1;33m(\u001b[0m\u001b[0mA\u001b[0m\u001b[1;33m,\u001b[0m\u001b[1;33m[\u001b[0m\u001b[1;36m4\u001b[0m\u001b[1;33m,\u001b[0m\u001b[1;36m4\u001b[0m\u001b[1;33m]\u001b[0m\u001b[1;33m)\u001b[0m\u001b[1;33m\u001b[0m\u001b[0m\n\u001b[0m",
      "\u001b[0;32mD:\\Users\\byron\\Anaconda2\\lib\\site-packages\\numpy\\core\\fromnumeric.pyc\u001b[0m in \u001b[0;36mreshape\u001b[0;34m(a, newshape, order)\u001b[0m\n\u001b[1;32m    222\u001b[0m     \u001b[1;32mexcept\u001b[0m \u001b[0mAttributeError\u001b[0m\u001b[1;33m:\u001b[0m\u001b[1;33m\u001b[0m\u001b[0m\n\u001b[1;32m    223\u001b[0m         \u001b[1;32mreturn\u001b[0m \u001b[0m_wrapit\u001b[0m\u001b[1;33m(\u001b[0m\u001b[0ma\u001b[0m\u001b[1;33m,\u001b[0m \u001b[1;34m'reshape'\u001b[0m\u001b[1;33m,\u001b[0m \u001b[0mnewshape\u001b[0m\u001b[1;33m,\u001b[0m \u001b[0morder\u001b[0m\u001b[1;33m=\u001b[0m\u001b[0morder\u001b[0m\u001b[1;33m)\u001b[0m\u001b[1;33m\u001b[0m\u001b[0m\n\u001b[0;32m--> 224\u001b[0;31m     \u001b[1;32mreturn\u001b[0m \u001b[0mreshape\u001b[0m\u001b[1;33m(\u001b[0m\u001b[0mnewshape\u001b[0m\u001b[1;33m,\u001b[0m \u001b[0morder\u001b[0m\u001b[1;33m=\u001b[0m\u001b[0morder\u001b[0m\u001b[1;33m)\u001b[0m\u001b[1;33m\u001b[0m\u001b[0m\n\u001b[0m\u001b[1;32m    225\u001b[0m \u001b[1;33m\u001b[0m\u001b[0m\n\u001b[1;32m    226\u001b[0m \u001b[1;33m\u001b[0m\u001b[0m\n",
      "\u001b[0;31mValueError\u001b[0m: total size of new array must be unchanged"
     ]
    }
   ],
   "source": [
    "# New shape must agree in number of elements\n",
    "# This will rise an error because A do not have enough elements to fill a 4x4 array\n",
    "C = np.reshape(A,[4,4])"
   ]
  },
  {
   "cell_type": "markdown",
   "metadata": {},
   "source": [
    "## Append rows/cols"
   ]
  },
  {
   "cell_type": "code",
   "execution_count": 6,
   "metadata": {
    "collapsed": false
   },
   "outputs": [
    {
     "name": "stdout",
     "output_type": "stream",
     "text": [
      "[[ 0.98518129  0.60898041  0.40566328  0.01670487]\n",
      " [ 0.6450601   0.85978905  0.66902865  0.61851746]\n",
      " [ 0.7956447   0.10383916  0.73235019  0.7352059 ]\n",
      " [ 0.42563489  0.68353725  0.20302183  0.48926061]]\n",
      "[[ 0.]\n",
      " [ 0.]\n",
      " [ 0.]\n",
      " [ 0.]]\n"
     ]
    },
    {
     "data": {
      "text/plain": [
       "array([[ 0.98518129,  0.60898041,  0.40566328,  0.01670487,  0.        ],\n",
       "       [ 0.6450601 ,  0.85978905,  0.66902865,  0.61851746,  0.        ],\n",
       "       [ 0.7956447 ,  0.10383916,  0.73235019,  0.7352059 ,  0.        ],\n",
       "       [ 0.42563489,  0.68353725,  0.20302183,  0.48926061,  0.        ]])"
      ]
     },
     "execution_count": 6,
     "metadata": {},
     "output_type": "execute_result"
    }
   ],
   "source": [
    "A = np.random.rand(4,4)\n",
    "print(A)\n",
    "\n",
    "B = np.zeros([4,1]) # column vector\n",
    "print(B)\n",
    "\n",
    "# Append column vector (axis = 1)\n",
    "np.append(A,B,axis=1)"
   ]
  },
  {
   "cell_type": "code",
   "execution_count": 7,
   "metadata": {
    "collapsed": false
   },
   "outputs": [
    {
     "name": "stdout",
     "output_type": "stream",
     "text": [
      "[[ 0.  0.  0.  0.]]\n"
     ]
    },
    {
     "data": {
      "text/plain": [
       "array([[ 0.98518129,  0.60898041,  0.40566328,  0.01670487],\n",
       "       [ 0.6450601 ,  0.85978905,  0.66902865,  0.61851746],\n",
       "       [ 0.7956447 ,  0.10383916,  0.73235019,  0.7352059 ],\n",
       "       [ 0.42563489,  0.68353725,  0.20302183,  0.48926061],\n",
       "       [ 0.        ,  0.        ,  0.        ,  0.        ]])"
      ]
     },
     "execution_count": 7,
     "metadata": {},
     "output_type": "execute_result"
    }
   ],
   "source": [
    "B = np.zeros([1,4]) # row vector\n",
    "print(B)\n",
    "\n",
    "# Append row (axis=0)\n",
    "np.append(A,B,axis=0)"
   ]
  },
  {
   "cell_type": "markdown",
   "metadata": {},
   "source": [
    "## Indexing and slicing"
   ]
  },
  {
   "cell_type": "code",
   "execution_count": 8,
   "metadata": {
    "collapsed": false
   },
   "outputs": [
    {
     "name": "stdout",
     "output_type": "stream",
     "text": [
      "[[ 0  1  2  3]\n",
      " [ 4  5  6  7]\n",
      " [ 8  9 10 11]]\n",
      "0\n",
      "1\n",
      "7\n"
     ]
    }
   ],
   "source": [
    "A = np.array([[0,1,2,3],[4,5,6,7],[8,9,10,11]])\n",
    "print(A)\n",
    "\n",
    "# You can access the value of a certain element by indexing with its row and column\n",
    "print(A[0,0]) # e.g. first row first column [0,0]\n",
    "print(A[0,1])\n",
    "\n",
    "print(A[1,3]) # second row, forth column"
   ]
  },
  {
   "cell_type": "code",
   "execution_count": 9,
   "metadata": {
    "collapsed": false
   },
   "outputs": [
    {
     "name": "stdout",
     "output_type": "stream",
     "text": [
      "[0 1]\n",
      "[0 1 2 3]\n"
     ]
    }
   ],
   "source": [
    "# You can also get a \"slice\" of a row \n",
    "\n",
    "print(A[0,0:2]) # first row, elements from 0 to 2 \n",
    "\n",
    "print(A[0,:]) # or whole row using \":\" as an index"
   ]
  },
  {
   "cell_type": "code",
   "execution_count": 10,
   "metadata": {
    "collapsed": false
   },
   "outputs": [
    {
     "name": "stdout",
     "output_type": "stream",
     "text": [
      "[1 5]\n",
      "[1 5 9]\n"
     ]
    }
   ],
   "source": [
    "# The same for columns\n",
    "print(A[0:2,1]) # second column, first two elements\n",
    "print(A[:,1]) # second column"
   ]
  },
  {
   "cell_type": "code",
   "execution_count": 11,
   "metadata": {
    "collapsed": false
   },
   "outputs": [
    {
     "name": "stdout",
     "output_type": "stream",
     "text": [
      "[ 8  9 10 11]\n",
      "[[ 8  9 10 11]]\n",
      "[[ 8]\n",
      " [ 9]\n",
      " [10]\n",
      " [11]]\n"
     ]
    }
   ],
   "source": [
    "# In the previous examples when you access a slice of a row/column you get a 1D vector\n",
    "# You can use NumPy broadcasting if you want to get a row/column array\n",
    "print(A[2,:])\n",
    "print(A[2,:][None,:])\n",
    "print(A[2,:][:,None])"
   ]
  },
  {
   "cell_type": "code",
   "execution_count": 12,
   "metadata": {
    "collapsed": false
   },
   "outputs": [
    {
     "name": "stdout",
     "output_type": "stream",
     "text": [
      "[[ 1  2]\n",
      " [ 5  6]\n",
      " [ 9 10]]\n"
     ]
    }
   ],
   "source": [
    "# You can also access a sub-matrix of the array\n",
    "print(A[0:3,1:3])"
   ]
  },
  {
   "cell_type": "code",
   "execution_count": 13,
   "metadata": {
    "collapsed": false
   },
   "outputs": [
    {
     "name": "stdout",
     "output_type": "stream",
     "text": [
      "[[0 1 2 3]\n",
      " [3 3 3 3]\n",
      " [3 3 3 3]]\n"
     ]
    }
   ],
   "source": [
    "# You can also index with conditions. \n",
    "# For example A[A>3] refers to all elements in A whose values are bigger that 3\n",
    "\n",
    "A[A>3] = 3 # This way I can, for example, \"clip\" array A to a max. value of 3\n",
    "\n",
    "print(A)"
   ]
  },
  {
   "cell_type": "markdown",
   "metadata": {},
   "source": [
    "## Operations with arrays "
   ]
  },
  {
   "cell_type": "code",
   "execution_count": 2,
   "metadata": {
    "collapsed": false
   },
   "outputs": [
    {
     "name": "stdout",
     "output_type": "stream",
     "text": [
      "[[1 2 3 4]]\n",
      "[[1]\n",
      " [2]\n",
      " [3]\n",
      " [4]]\n",
      "[[1]\n",
      " [2]\n",
      " [3]\n",
      " [4]]\n"
     ]
    }
   ],
   "source": [
    "# Transposed array\n",
    "A = np.array([[1,2,3,4]])\n",
    "print(A)\n",
    "\n",
    "\n",
    "print(A.transpose())\n",
    "print(A.T) # shortcut for transpose()"
   ]
  },
  {
   "cell_type": "code",
   "execution_count": 3,
   "metadata": {
    "collapsed": false
   },
   "outputs": [
    {
     "name": "stdout",
     "output_type": "stream",
     "text": [
      "[[ 8  9 10 11]]\n",
      "[[ 3  6  9 12]]\n",
      "[[ 1  4  9 16]]\n"
     ]
    }
   ],
   "source": [
    "# Operations with scalars \n",
    "\n",
    "print(A+7)  # addition\n",
    "print(A*3) # multiplication\n",
    "print(A**2) # exponentiation"
   ]
  },
  {
   "cell_type": "code",
   "execution_count": 4,
   "metadata": {
    "collapsed": false
   },
   "outputs": [
    {
     "name": "stdout",
     "output_type": "stream",
     "text": [
      "[[ 0.  1.  2.  3.]]\n",
      "[[ 2.  3.  4.  5.]]\n",
      "[[ 1.  2.  3.  4.]]\n"
     ]
    }
   ],
   "source": [
    "# Element-wise operations (the shape of the operands must agree)\n",
    "B = np.ones(A.shape)\n",
    "\n",
    "print(A-B)\n",
    "print(A+B)\n",
    "print(A*B)"
   ]
  },
  {
   "cell_type": "code",
   "execution_count": 5,
   "metadata": {
    "collapsed": false
   },
   "outputs": [
    {
     "data": {
      "text/plain": [
       "array([[30]])"
      ]
     },
     "execution_count": 5,
     "metadata": {},
     "output_type": "execute_result"
    }
   ],
   "source": [
    "# Matrix (dot) product\n",
    "np.dot(A,A.T)\n"
   ]
  },
  {
   "cell_type": "code",
   "execution_count": 6,
   "metadata": {
    "collapsed": false
   },
   "outputs": [
    {
     "data": {
      "text/plain": [
       "array([[30]])"
      ]
     },
     "execution_count": 6,
     "metadata": {},
     "output_type": "execute_result"
    }
   ],
   "source": [
    "A.dot(A.T)"
   ]
  },
  {
   "cell_type": "code",
   "execution_count": 7,
   "metadata": {
    "collapsed": false
   },
   "outputs": [
    {
     "data": {
      "text/plain": [
       "10"
      ]
     },
     "execution_count": 7,
     "metadata": {},
     "output_type": "execute_result"
    }
   ],
   "source": [
    "# Sum of array elements'\n",
    "np.sum(A)"
   ]
  },
  {
   "cell_type": "code",
   "execution_count": 8,
   "metadata": {
    "collapsed": false
   },
   "outputs": [
    {
     "data": {
      "text/plain": [
       "10"
      ]
     },
     "execution_count": 8,
     "metadata": {},
     "output_type": "execute_result"
    }
   ],
   "source": [
    "A.sum()"
   ]
  },
  {
   "cell_type": "code",
   "execution_count": 9,
   "metadata": {
    "collapsed": false
   },
   "outputs": [
    {
     "name": "stdout",
     "output_type": "stream",
     "text": [
      "(4, 1)\n"
     ]
    }
   ],
   "source": [
    "# Max./min. value\n",
    "print(np.max(A), np.min(A))"
   ]
  },
  {
   "cell_type": "markdown",
   "metadata": {},
   "source": [
    "## Comparing numpy dot product efficiency\n",
    "\n",
    "Let's check the difference of using numpy built-in operations or standard python code. Remember to use numpy built-in functionality always when posible."
   ]
  },
  {
   "cell_type": "code",
   "execution_count": 10,
   "metadata": {
    "collapsed": false
   },
   "outputs": [
    {
     "name": "stdout",
     "output_type": "stream",
     "text": [
      "1.05165280196\n",
      "0.0888759571863\n",
      "0.0242252138965\n"
     ]
    }
   ],
   "source": [
    "import timeit #Tool for measuring execution time of small code snippets.\n",
    "\n",
    "# In standard Python the time for adding the results of 1000 multiplications is:\n",
    "print(timeit.timeit('sum(x*x for x in xrange(1000))',number=10000))\n",
    "# Using NumPy array element-wise multiplication and array sum:\n",
    "print(timeit.timeit('np.sum(a*a)',setup=\"import numpy as np; a=np.arange(1000)\", number=10000))\n",
    "# Using NumPy dot product:\n",
    "print(timeit.timeit('a.dot(a)',setup=\"import numpy as np; a=np.arange(1000)\", number=10000))"
   ]
  },
  {
   "cell_type": "markdown",
   "metadata": {},
   "source": [
    "## Additional information \n",
    "Additional information about the Numpy arrays and some exercises can be found <a href=\"https://scipy-lectures.github.io/intro/numpy/array_object.html\">here</a>."
   ]
  },
  {
   "cell_type": "markdown",
   "metadata": {},
   "source": [
    "## <font color='red'>Exercises</font>"
   ]
  },
  {
   "cell_type": "markdown",
   "metadata": {},
   "source": [
    "The first time you open the notebook always include the modules that are going to be used."
   ]
  },
  {
   "cell_type": "code",
   "execution_count": 1,
   "metadata": {
    "collapsed": true
   },
   "outputs": [],
   "source": [
    "# Import NumPy\n",
    "import numpy as np"
   ]
  },
  {
   "cell_type": "markdown",
   "metadata": {},
   "source": [
    "Familiarize yourself with the different functions available to create numpy arrays.\n",
    "\n",
    "* Create several arrays."
   ]
  },
  {
   "cell_type": "code",
   "execution_count": 9,
   "metadata": {
    "collapsed": false
   },
   "outputs": [
    {
     "name": "stdout",
     "output_type": "stream",
     "text": [
      "A = [10 11 12 13 14 15 16 17 18 19]\n",
      "B =\n",
      "[[1 2]\n",
      " [3 4]]\n",
      "C =\n",
      "[[1, 2, 3] [4, 5] [6, 7, 8]]\n"
     ]
    }
   ],
   "source": [
    "# Creating a vector (1D array)\n",
    "A = np.array([10, 11, 12, 13, 14, 15, 16, 17, 18, 19])\n",
    "print \"A =\", A\n",
    "\n",
    "# Create a two dimensional array (2x2 matrix)\n",
    "B = np.array([[1, 2], [3, 4]])\n",
    "print(\"B =\")\n",
    "print(B)\n",
    "\n",
    "# Create a two dimensional array that is not a matrix\n",
    "C = np.array([[1, 2, 3], [4, 5], [6, 7, 8]])\n",
    "print(\"C =\")\n",
    "print(C)"
   ]
  },
  {
   "cell_type": "markdown",
   "metadata": {},
   "source": [
    "* Use the functions **len()**, **numpy.shape()** on these arrays. How do they relate to each other? And to the **ndim** attribute of the arrays?"
   ]
  },
  {
   "cell_type": "markdown",
   "metadata": {},
   "source": [
    "The function **len()** returns the number of columns of array."
   ]
  },
  {
   "cell_type": "code",
   "execution_count": 10,
   "metadata": {
    "collapsed": false
   },
   "outputs": [
    {
     "name": "stdout",
     "output_type": "stream",
     "text": [
      "Size of the first dimension (columns) for A = 10\n",
      "Size of the first dimension (columns) for B = 2\n",
      "Size of the first dimension (columns) for C = 3\n"
     ]
    }
   ],
   "source": [
    "m = \"Size of the first dimension (columns) for A =\"\n",
    "print m, len(A)\n",
    "m = \"Size of the first dimension (columns) for B =\"\n",
    "print m, len(B)\n",
    "m = \"Size of the first dimension (columns) for C =\"\n",
    "print m, len(C)"
   ]
  },
  {
   "cell_type": "markdown",
   "metadata": {},
   "source": [
    "The function **numpy.shape()** returns the number of dimensions and the longitude (number of values) on each dimension of the array."
   ]
  },
  {
   "cell_type": "code",
   "execution_count": 11,
   "metadata": {
    "collapsed": false
   },
   "outputs": [
    {
     "name": "stdout",
     "output_type": "stream",
     "text": [
      "Shape of A = (10L,)\n",
      "Shape of B = (2L, 2L)\n",
      "Shape of C = (3L,)\n"
     ]
    }
   ],
   "source": [
    "m = \"Shape of A =\"\n",
    "print m, A.shape\n",
    "m = \"Shape of B =\"\n",
    "print m, B.shape\n",
    "m = \"Shape of C =\"\n",
    "print m, C.shape"
   ]
  },
  {
   "cell_type": "markdown",
   "metadata": {},
   "source": [
    "The previous code tells that **A** is a one dimensional array (vector) with 10 values, while **B** is a two dimensional array with 2 values in each dimension (a matrix). However **C** is an interesting case, **numpy.shape()** tells that **C** is a one dimensional array (vector) with three values, but it doesn't tell that each value is itself a new array (vector) of 3, 2, and 3 values respectively.\n",
    "\n",
    "It can be said that the **len()** and the **numpy.shape()** function are related in that both can return the longitude of the array, but the NumPy function provides more information about the array, even though sometimes is not enough to completely describe the array as can be seen with **C**.\n",
    "\n",
    "The function **ndim()** returns the dimensions of the array."
   ]
  },
  {
   "cell_type": "code",
   "execution_count": 12,
   "metadata": {
    "collapsed": false
   },
   "outputs": [
    {
     "name": "stdout",
     "output_type": "stream",
     "text": [
      "Dimensions of A = 1\n",
      "Dimensions of B = 2\n",
      "Dimensions of C = 1\n"
     ]
    }
   ],
   "source": [
    "m = \"Dimensions of A =\"\n",
    "print m, A.ndim\n",
    "m = \"Dimensions of B =\"\n",
    "print m, B.ndim\n",
    "m = \"Dimensions of C =\"\n",
    "print m, C.ndim"
   ]
  },
  {
   "cell_type": "markdown",
   "metadata": {},
   "source": [
    "The previous code tells that **A** is a one dimensional array (vector), while **B** is a two dimensional array (a matrix). Again **C** is an interesting case, **numpy.ndim()** tells that **C** is a one dimensional array (vector), but it doesn't tell that each value is itself a new array (vector).\n",
    "\n",
    "If **ndim** is compared with **len** and **shape**, it can be seen that it is rather a specific function as the information provided is not related to longitude, but instead counts the number of values that the **shape** function returns."
   ]
  },
  {
   "cell_type": "markdown",
   "metadata": {},
   "source": [
    "* There are even more ways to create numpy arrays. Use the **help()** function to find out about **np.linspace** and **np.diag**. How do they relate to **np.arange** and **np.eye** respectively?"
   ]
  },
  {
   "cell_type": "code",
   "execution_count": null,
   "metadata": {
    "collapsed": false
   },
   "outputs": [],
   "source": []
  },
  {
   "cell_type": "markdown",
   "metadata": {},
   "source": [
    "What is the output of the **dtype** attribute of numpy arrays? Is it possible to specify a data type when we create an array? Check the **np.array** documentation."
   ]
  },
  {
   "cell_type": "code",
   "execution_count": null,
   "metadata": {
    "collapsed": false
   },
   "outputs": [],
   "source": [
    "A = np.array([1, 2, 3])\n",
    "B = np.array([1.0, 2.0, 3.0])\n",
    "A.dtype,B.dtype"
   ]
  },
  {
   "cell_type": "markdown",
   "metadata": {},
   "source": [
    "Using the **numpy.append** function array dimensions must agree. The following code will rise an error.  Write code to reshape B and append it to A."
   ]
  },
  {
   "cell_type": "code",
   "execution_count": null,
   "metadata": {
    "collapsed": false
   },
   "outputs": [],
   "source": [
    "A = np.random.randint(10,size=(4,4))\n",
    "B = np.zeros([2,2])\n",
    "# Append column\n",
    "np.append(A,B,axis=1)"
   ]
  },
  {
   "cell_type": "markdown",
   "metadata": {},
   "source": [
    "Same as before, the following code rise an error. Write code to append a slice of vector C with the correct dimension."
   ]
  },
  {
   "cell_type": "code",
   "execution_count": null,
   "metadata": {
    "collapsed": false
   },
   "outputs": [],
   "source": [
    "C = np.zeros([5,1])\n",
    "# Append column\n",
    "np.append(A,C,axis=1)"
   ]
  },
  {
   "cell_type": "markdown",
   "metadata": {},
   "source": [
    "# Introduction to SciPy\n",
    "\n",
    "Scipy offers a variety of numerical algorithms that build on top of the efficient NumPy arrays. The diverse algorithms are grouped into different modules. To cite some of them:\n",
    "\n",
    "* **scipy.stats** Statistical functions\n",
    "\n",
    "* **scipy.cluster** Hierarchical clustering (cluster.hierarchy), Vector quantization / K-Means (cluster.vq)\n",
    "\n",
    "* **scipy.optimize** Optimization algorithms\n",
    "\n",
    "Appart of these modules there exist multiple scikits, scientific toolboxes build around SciPy. You can find a list of available scikits <a href=\"https://scikits.appspot.com/scikits\">here</a>. From wich the most related to Pattern Recognition is scikit-learn.\n",
    "\n",
    "* **scikit-learn** Machine Learning in Python: Simple and efficient tools for data mining and data analysis.\n",
    "\n",
    "Apart from scikit-learn, another popular scikit is scikit-image.\n",
    "\n",
    "Since all these modules are very specialized we are not going into details in this introduction. As always, remember you can get help on specific modules with **help()**. For example:"
   ]
  },
  {
   "cell_type": "code",
   "execution_count": null,
   "metadata": {
    "collapsed": false
   },
   "outputs": [],
   "source": [
    "import scipy.stats as sp\n",
    "help(sp)"
   ]
  },
  {
   "cell_type": "code",
   "execution_count": null,
   "metadata": {
    "collapsed": false
   },
   "outputs": [],
   "source": [
    "help(sp.distributions)"
   ]
  },
  {
   "cell_type": "code",
   "execution_count": null,
   "metadata": {
    "collapsed": false
   },
   "outputs": [],
   "source": [
    "import sklearn as skl\n",
    "help(skl)"
   ]
  },
  {
   "cell_type": "code",
   "execution_count": null,
   "metadata": {
    "collapsed": false
   },
   "outputs": [],
   "source": [
    "import sklearn.datasets as datasets\n",
    "help(datasets)"
   ]
  },
  {
   "cell_type": "markdown",
   "metadata": {},
   "source": [
    "# Introduction to Matplotlib\n",
    "\n",
    "\n",
    "\n",
    "When working with ipython notebooks the use of '--pylab inline' is important, so that plots are displayed in the notebook and not in a new window. Alternatively you can also use the following code inside a notebook:"
   ]
  },
  {
   "cell_type": "code",
   "execution_count": null,
   "metadata": {
    "collapsed": false
   },
   "outputs": [],
   "source": [
    "%pylab inline"
   ]
  },
  {
   "cell_type": "code",
   "execution_count": null,
   "metadata": {
    "collapsed": false
   },
   "outputs": [],
   "source": [
    "import matplotlib.pyplot as plt\n",
    "\n",
    "# Plot a curve. Y as a function of X\n",
    "X = np.arange(0,2*np.pi,0.01)\n",
    "Y = sin(X)\n",
    "plt.plot(X,Y) # line plot\n",
    "plt.title('sin(x)')"
   ]
  },
  {
   "cell_type": "code",
   "execution_count": null,
   "metadata": {
    "collapsed": false
   },
   "outputs": [],
   "source": [
    "# Plot more than one curve and show legend\n",
    "plt.plot(X,sin(X),label='sin(x)')\n",
    "plt.plot(X,cos(X),label='cos(x)')\n",
    "plt.plot(X,tan(X),label='tan(x)')\n",
    "plt.title('Trigonometric Functions')\n",
    "\n",
    "plt.ylim(-1.5,1.5) # limit the range of y values\n",
    "plt.legend() # show the legend"
   ]
  },
  {
   "cell_type": "code",
   "execution_count": null,
   "metadata": {
    "collapsed": false
   },
   "outputs": [],
   "source": [
    "# Plot in three subplots (sharing the x axis)\n",
    "f, (ax1, ax2, ax3) = plt.subplots(3,sharex=True,sharey=False)\n",
    "ax1.plot(X,sin(X));\n",
    "ax2.plot(X,cos(X));\n",
    "ax3.plot(X,tan(X));"
   ]
  },
  {
   "cell_type": "code",
   "execution_count": null,
   "metadata": {
    "collapsed": false
   },
   "outputs": [],
   "source": [
    "# Draw 10000 samples from the standard normal distribution \n",
    "mu=0; sigma=1;\n",
    "p = np.random.normal(mu, sigma, size=100000)\n",
    "\n",
    "# plot the histogram of the sampled data\n",
    "plt.hist(p, bins=50, normed=1, facecolor='g', alpha=0.5, label='my data')\n",
    "\n",
    "plt.xlabel('x')\n",
    "plt.ylabel('Probability')\n",
    "plt.title('Gaussian distribution')\n",
    "plt.text(-2, 0.45, r'$\\mu=0,\\ \\sigma=1$')\n",
    "plt.xlim(-4, 4)\n",
    "plt.ylim(0, 0.5)\n",
    "plt.grid(True)"
   ]
  },
  {
   "cell_type": "markdown",
   "metadata": {},
   "source": [
    "### <font color='red'>Exercise</font>\n",
    "\n",
    "Read the documentation of the np.random package and check the available univariate distributions. You'll find several distributions apart from the **np.random.normal** we have used in the previous example. Select four of them, draw N samples, and plot their histograms using subplots."
   ]
  },
  {
   "cell_type": "code",
   "execution_count": null,
   "metadata": {
    "collapsed": false
   },
   "outputs": [],
   "source": [
    "help(np.random)"
   ]
  },
  {
   "cell_type": "markdown",
   "metadata": {},
   "source": [
    "# Linear Regression"
   ]
  },
  {
   "cell_type": "code",
   "execution_count": null,
   "metadata": {
    "collapsed": false
   },
   "outputs": [],
   "source": [
    "import pickle # The pickle module implements a fundamental, but powerful algorithm for \n",
    "              # serializing and de-serializing a Python object structure. \n",
    "              # “Pickling” is the process whereby a Python object hierarchy is converted \n",
    "              # into a byte stream that we can use e.g. to save data/load into/from a file.\n",
    "\n",
    "# Load data for the regression example\n",
    "with open('./P0data1.pkl','rb') as f:\n",
    " (X,y) = pickle.load(f)\n",
    "\n",
    "# Our dataset is composed by input data (X) and output data (y) pairs.\n",
    "X.shape, y.shape"
   ]
  },
  {
   "cell_type": "code",
   "execution_count": null,
   "metadata": {
    "collapsed": false
   },
   "outputs": [],
   "source": [
    "# This dataset is known as the \"house prices\" dataset\n",
    "# the task to be done is to predict the price of a house given some 'feautres' of the house\n",
    "# our input data (X) contains two features per sample (size of the house, and number of rooms)\n",
    "# the output data (y) contains the price of each sample.\n",
    "# for simplification we are going to use only one feature (the size of the house i.e. X[:,0])\n",
    "\n",
    "\n",
    "# Plot sample points.\n",
    "plt.plot(X[:,0],y,'o') # plot dots ('o') for each sample (house size, house price)\n",
    "plt.title('House Prices')\n",
    "plt.xlabel('House Size (square feet)')\n",
    "plt.ylabel('House Price ($)')"
   ]
  },
  {
   "cell_type": "markdown",
   "metadata": {},
   "source": [
    "We want to find a model to predict prices (y) for houses that are not in our dataset. In linear regression, the model (h) is a linear function of the input data (x, the house size):\n",
    "\n",
    "$h_\\theta(x) = \\theta_0 + \\theta_1 x$\n",
    "\n",
    "For this we need to choose the parameters $\\theta_i$ minimizing a cost function $J$ e.g. the average squared difference between the predictions ($h_\\theta$) and the real prices ($y$) in our training data:\n",
    "\n",
    "$\\hat{\\theta} = \\underset{\\theta}{\\text{minimize}} {1 \\over 2m} \\sum_{i=1}^m{(h_\\theta(x^{(i)}) - y^{(i)})^2}$\n",
    "\n",
    "where $(x^{(i)},y^{(i)})$ is the i-th training sample, and $m$ (=47) is the number of samples in our training set.\n",
    "\n",
    "This optimization problem can be solved in different ways, in this example we are going to implement the Gradient Descent algorithm. In pseudo-code the Gradient Descent algorithm is formalized as follows:\n",
    "\n",
    "repeat until convergence {\n",
    "\n",
    "$\\theta_j := \\theta_j - \\alpha \\frac{\\partial}{\\partial \\theta_j} J(\\theta)$ (for all j)\n",
    "\n",
    "}\n",
    "\n",
    "where $\\alpha$ is the learning rate, and the partial derivative (the gradient) of the cost function is given by:\n",
    "\n",
    "$\\frac{\\partial}{\\partial \\theta_j} J(\\theta) = {1 \\over m} \\sum_{i=1}^m{(h_\\theta(x^{(i)}) - y^{(i)}) x_j^{(i)}}$\n",
    "\n",
    "Let's see a first version Gradient Descent in python:"
   ]
  },
  {
   "cell_type": "code",
   "execution_count": null,
   "metadata": {
    "collapsed": false
   },
   "outputs": [],
   "source": [
    "def GradientDescent(X,y,max_iterations=100, alpha=1):\n",
    "    m = X.shape[0] # number of samples\n",
    "\n",
    "    # y must be a column vector\n",
    "    y = y.reshape(m,1)\n",
    "    \n",
    "    #initialize the parameters to zero\n",
    "    theta = np.zeros(shape=(2,1)) # only two parameters in this particular case (\\theta_0 and \\theta_1)\n",
    "    \n",
    "    # Repeat for max_iterations (it would be nice to also check convergence...)\n",
    "    for iteration in range(max_iterations):\n",
    "        grad = np.dot(X.T , (np.dot(X,theta) - y)) / m;\n",
    "        theta = theta - alpha*grad\n",
    "    return theta\n",
    "\n",
    "\n",
    "    \n",
    "#prepare x with a column of ones (this is the x_0 for the bias term)\n",
    "x = ones(shape=(X.shape[0], 2))\n",
    "x[:,1] = X[:,0] #discard the 2nd feature (number of rooms)\n",
    "\n",
    "# Scale features and set them to zero mean (standarize)\n",
    "mu = np.mean(x,0);\n",
    "sigma = np.std(x,0,ddof=1)\n",
    "x[:,1] = (x[:,1] - mu[1]) / sigma[1];\n",
    "\n",
    "theta = GradientDescent(x,y)\n",
    "print 'theta result:'\n",
    "print theta\n",
    "\n",
    "# Plot sample points.\n",
    "plt.plot(x[:,1],y,'o') # plot dots ('o') for each sample (house size, house price)\n",
    "plt.title('House Prices')\n",
    "plt.xlabel('House Size (normalized)')\n",
    "plt.ylabel('House Price ($)')\n",
    "\n",
    "# Plot line y = theta_1 * x + theta_0\n",
    "xx=np.arange(-2,4,0.1)\n",
    "yy=theta[0]+theta[1]*xx\n",
    "plt.plot(xx,yy)\n",
    "\n",
    "\n",
    "# Now we can use our model to predict the price of any house given it's size in squared feet\n",
    "hs = 2900\n",
    "hp = theta[0]+theta[1]*((hs-mu[1])/sigma[1]) # remember to standarize x!\n",
    "print 'Predicted price: '+str(hp)\n",
    "plt.plot((hs-mu[1])/sigma[1],hp,'or')"
   ]
  },
  {
   "cell_type": "markdown",
   "metadata": {},
   "source": [
    "### <font color='red'>Exercise</font>\n",
    "\n",
    "Reimplement the **GradientDescent** algorithm to use the original input data (X) with the two given features (size of the house, number of rooms) instead of using only the first one as in the previous example."
   ]
  },
  {
   "cell_type": "code",
   "execution_count": null,
   "metadata": {
    "collapsed": false
   },
   "outputs": [],
   "source": []
  },
  {
   "cell_type": "markdown",
   "metadata": {},
   "source": [
    "### <font color='red'>Exercise</font>\n",
    "\n",
    "Try different values for the learning rate $\\alpha$."
   ]
  },
  {
   "cell_type": "code",
   "execution_count": null,
   "metadata": {
    "collapsed": false
   },
   "outputs": [],
   "source": []
  },
  {
   "cell_type": "markdown",
   "metadata": {},
   "source": [
    "### <font color='red'>Exercise</font>\n",
    "\n",
    "Plot curves of the cost function $J$ as a function of the number of iterations for different $\\alpha$."
   ]
  },
  {
   "cell_type": "code",
   "execution_count": null,
   "metadata": {
    "collapsed": false
   },
   "outputs": [],
   "source": []
  }
 ],
 "metadata": {
  "kernelspec": {
   "display_name": "Python 2",
   "language": "python",
   "name": "python2"
  },
  "language_info": {
   "codemirror_mode": {
    "name": "ipython",
    "version": 2
   },
   "file_extension": ".py",
   "mimetype": "text/x-python",
   "name": "python",
   "nbconvert_exporter": "python",
   "pygments_lexer": "ipython2",
   "version": "2.7.13"
  }
 },
 "nbformat": 4,
 "nbformat_minor": 0
}
